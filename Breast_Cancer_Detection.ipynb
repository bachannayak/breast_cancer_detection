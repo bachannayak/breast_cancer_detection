{
 "cells": [
  {
   "cell_type": "code",
   "execution_count": 1,
   "metadata": {
    "id": "9h9VwWrbhEDP"
   },
   "outputs": [],
   "source": [
    "import pandas as pd\n",
    "import numpy as np\n",
    "\n",
    "from sklearn.datasets import load_breast_cancer\n",
    "from sklearn.preprocessing import StandardScaler\n",
    "\n",
    "from keras.models import Sequential\n",
    "from keras.layers import Dense"
   ]
  },
  {
   "cell_type": "code",
   "execution_count": 4,
   "metadata": {
    "id": "PKJ7JWdAmtg8"
   },
   "outputs": [
    {
     "data": {
      "text/plain": [
       "{'data': array([[1.799e+01, 1.038e+01, 1.228e+02, ..., 2.654e-01, 4.601e-01,\n",
       "         1.189e-01],\n",
       "        [2.057e+01, 1.777e+01, 1.329e+02, ..., 1.860e-01, 2.750e-01,\n",
       "         8.902e-02],\n",
       "        [1.969e+01, 2.125e+01, 1.300e+02, ..., 2.430e-01, 3.613e-01,\n",
       "         8.758e-02],\n",
       "        ...,\n",
       "        [1.660e+01, 2.808e+01, 1.083e+02, ..., 1.418e-01, 2.218e-01,\n",
       "         7.820e-02],\n",
       "        [2.060e+01, 2.933e+01, 1.401e+02, ..., 2.650e-01, 4.087e-01,\n",
       "         1.240e-01],\n",
       "        [7.760e+00, 2.454e+01, 4.792e+01, ..., 0.000e+00, 2.871e-01,\n",
       "         7.039e-02]]),\n",
       " 'target': array([0, 0, 0, 0, 0, 0, 0, 0, 0, 0, 0, 0, 0, 0, 0, 0, 0, 0, 0, 1, 1, 1,\n",
       "        0, 0, 0, 0, 0, 0, 0, 0, 0, 0, 0, 0, 0, 0, 0, 1, 0, 0, 0, 0, 0, 0,\n",
       "        0, 0, 1, 0, 1, 1, 1, 1, 1, 0, 0, 1, 0, 0, 1, 1, 1, 1, 0, 1, 0, 0,\n",
       "        1, 1, 1, 1, 0, 1, 0, 0, 1, 0, 1, 0, 0, 1, 1, 1, 0, 0, 1, 0, 0, 0,\n",
       "        1, 1, 1, 0, 1, 1, 0, 0, 1, 1, 1, 0, 0, 1, 1, 1, 1, 0, 1, 1, 0, 1,\n",
       "        1, 1, 1, 1, 1, 1, 1, 0, 0, 0, 1, 0, 0, 1, 1, 1, 0, 0, 1, 0, 1, 0,\n",
       "        0, 1, 0, 0, 1, 1, 0, 1, 1, 0, 1, 1, 1, 1, 0, 1, 1, 1, 1, 1, 1, 1,\n",
       "        1, 1, 0, 1, 1, 1, 1, 0, 0, 1, 0, 1, 1, 0, 0, 1, 1, 0, 0, 1, 1, 1,\n",
       "        1, 0, 1, 1, 0, 0, 0, 1, 0, 1, 0, 1, 1, 1, 0, 1, 1, 0, 0, 1, 0, 0,\n",
       "        0, 0, 1, 0, 0, 0, 1, 0, 1, 0, 1, 1, 0, 1, 0, 0, 0, 0, 1, 1, 0, 0,\n",
       "        1, 1, 1, 0, 1, 1, 1, 1, 1, 0, 0, 1, 1, 0, 1, 1, 0, 0, 1, 0, 1, 1,\n",
       "        1, 1, 0, 1, 1, 1, 1, 1, 0, 1, 0, 0, 0, 0, 0, 0, 0, 0, 0, 0, 0, 0,\n",
       "        0, 0, 1, 1, 1, 1, 1, 1, 0, 1, 0, 1, 1, 0, 1, 1, 0, 1, 0, 0, 1, 1,\n",
       "        1, 1, 1, 1, 1, 1, 1, 1, 1, 1, 1, 0, 1, 1, 0, 1, 0, 1, 1, 1, 1, 1,\n",
       "        1, 1, 1, 1, 1, 1, 1, 1, 1, 0, 1, 1, 1, 0, 1, 0, 1, 1, 1, 1, 0, 0,\n",
       "        0, 1, 1, 1, 1, 0, 1, 0, 1, 0, 1, 1, 1, 0, 1, 1, 1, 1, 1, 1, 1, 0,\n",
       "        0, 0, 1, 1, 1, 1, 1, 1, 1, 1, 1, 1, 1, 0, 0, 1, 0, 0, 0, 1, 0, 0,\n",
       "        1, 1, 1, 1, 1, 0, 1, 1, 1, 1, 1, 0, 1, 1, 1, 0, 1, 1, 0, 0, 1, 1,\n",
       "        1, 1, 1, 1, 0, 1, 1, 1, 1, 1, 1, 1, 0, 1, 1, 1, 1, 1, 0, 1, 1, 0,\n",
       "        1, 1, 1, 1, 1, 1, 1, 1, 1, 1, 1, 1, 0, 1, 0, 0, 1, 0, 1, 1, 1, 1,\n",
       "        1, 0, 1, 1, 0, 1, 0, 1, 1, 0, 1, 0, 1, 1, 1, 1, 1, 1, 1, 1, 0, 0,\n",
       "        1, 1, 1, 1, 1, 1, 0, 1, 1, 1, 1, 1, 1, 1, 1, 1, 1, 0, 1, 1, 1, 1,\n",
       "        1, 1, 1, 0, 1, 0, 1, 1, 0, 1, 1, 1, 1, 1, 0, 0, 1, 0, 1, 0, 1, 1,\n",
       "        1, 1, 1, 0, 1, 1, 0, 1, 0, 1, 0, 0, 1, 1, 1, 0, 1, 1, 1, 1, 1, 1,\n",
       "        1, 1, 1, 1, 1, 0, 1, 0, 0, 1, 1, 1, 1, 1, 1, 1, 1, 1, 1, 1, 1, 1,\n",
       "        1, 1, 1, 1, 1, 1, 1, 1, 1, 1, 1, 1, 0, 0, 0, 0, 0, 0, 1]),\n",
       " 'frame': None,\n",
       " 'target_names': array(['malignant', 'benign'], dtype='<U9'),\n",
       " 'DESCR': '.. _breast_cancer_dataset:\\n\\nBreast cancer wisconsin (diagnostic) dataset\\n--------------------------------------------\\n\\n**Data Set Characteristics:**\\n\\n    :Number of Instances: 569\\n\\n    :Number of Attributes: 30 numeric, predictive attributes and the class\\n\\n    :Attribute Information:\\n        - radius (mean of distances from center to points on the perimeter)\\n        - texture (standard deviation of gray-scale values)\\n        - perimeter\\n        - area\\n        - smoothness (local variation in radius lengths)\\n        - compactness (perimeter^2 / area - 1.0)\\n        - concavity (severity of concave portions of the contour)\\n        - concave points (number of concave portions of the contour)\\n        - symmetry\\n        - fractal dimension (\"coastline approximation\" - 1)\\n\\n        The mean, standard error, and \"worst\" or largest (mean of the three\\n        worst/largest values) of these features were computed for each image,\\n        resulting in 30 features.  For instance, field 0 is Mean Radius, field\\n        10 is Radius SE, field 20 is Worst Radius.\\n\\n        - class:\\n                - WDBC-Malignant\\n                - WDBC-Benign\\n\\n    :Summary Statistics:\\n\\n    ===================================== ====== ======\\n                                           Min    Max\\n    ===================================== ====== ======\\n    radius (mean):                        6.981  28.11\\n    texture (mean):                       9.71   39.28\\n    perimeter (mean):                     43.79  188.5\\n    area (mean):                          143.5  2501.0\\n    smoothness (mean):                    0.053  0.163\\n    compactness (mean):                   0.019  0.345\\n    concavity (mean):                     0.0    0.427\\n    concave points (mean):                0.0    0.201\\n    symmetry (mean):                      0.106  0.304\\n    fractal dimension (mean):             0.05   0.097\\n    radius (standard error):              0.112  2.873\\n    texture (standard error):             0.36   4.885\\n    perimeter (standard error):           0.757  21.98\\n    area (standard error):                6.802  542.2\\n    smoothness (standard error):          0.002  0.031\\n    compactness (standard error):         0.002  0.135\\n    concavity (standard error):           0.0    0.396\\n    concave points (standard error):      0.0    0.053\\n    symmetry (standard error):            0.008  0.079\\n    fractal dimension (standard error):   0.001  0.03\\n    radius (worst):                       7.93   36.04\\n    texture (worst):                      12.02  49.54\\n    perimeter (worst):                    50.41  251.2\\n    area (worst):                         185.2  4254.0\\n    smoothness (worst):                   0.071  0.223\\n    compactness (worst):                  0.027  1.058\\n    concavity (worst):                    0.0    1.252\\n    concave points (worst):               0.0    0.291\\n    symmetry (worst):                     0.156  0.664\\n    fractal dimension (worst):            0.055  0.208\\n    ===================================== ====== ======\\n\\n    :Missing Attribute Values: None\\n\\n    :Class Distribution: 212 - Malignant, 357 - Benign\\n\\n    :Creator:  Dr. William H. Wolberg, W. Nick Street, Olvi L. Mangasarian\\n\\n    :Donor: Nick Street\\n\\n    :Date: November, 1995\\n\\nThis is a copy of UCI ML Breast Cancer Wisconsin (Diagnostic) datasets.\\nhttps://goo.gl/U2Uwz2\\n\\nFeatures are computed from a digitized image of a fine needle\\naspirate (FNA) of a breast mass.  They describe\\ncharacteristics of the cell nuclei present in the image.\\n\\nSeparating plane described above was obtained using\\nMultisurface Method-Tree (MSM-T) [K. P. Bennett, \"Decision Tree\\nConstruction Via Linear Programming.\" Proceedings of the 4th\\nMidwest Artificial Intelligence and Cognitive Science Society,\\npp. 97-101, 1992], a classification method which uses linear\\nprogramming to construct a decision tree.  Relevant features\\nwere selected using an exhaustive search in the space of 1-4\\nfeatures and 1-3 separating planes.\\n\\nThe actual linear program used to obtain the separating plane\\nin the 3-dimensional space is that described in:\\n[K. P. Bennett and O. L. Mangasarian: \"Robust Linear\\nProgramming Discrimination of Two Linearly Inseparable Sets\",\\nOptimization Methods and Software 1, 1992, 23-34].\\n\\nThis database is also available through the UW CS ftp server:\\n\\nftp ftp.cs.wisc.edu\\ncd math-prog/cpo-dataset/machine-learn/WDBC/\\n\\n.. topic:: References\\n\\n   - W.N. Street, W.H. Wolberg and O.L. Mangasarian. Nuclear feature extraction \\n     for breast tumor diagnosis. IS&T/SPIE 1993 International Symposium on \\n     Electronic Imaging: Science and Technology, volume 1905, pages 861-870,\\n     San Jose, CA, 1993.\\n   - O.L. Mangasarian, W.N. Street and W.H. Wolberg. Breast cancer diagnosis and \\n     prognosis via linear programming. Operations Research, 43(4), pages 570-577, \\n     July-August 1995.\\n   - W.H. Wolberg, W.N. Street, and O.L. Mangasarian. Machine learning techniques\\n     to diagnose breast cancer from fine-needle aspirates. Cancer Letters 77 (1994) \\n     163-171.',\n",
       " 'feature_names': array(['mean radius', 'mean texture', 'mean perimeter', 'mean area',\n",
       "        'mean smoothness', 'mean compactness', 'mean concavity',\n",
       "        'mean concave points', 'mean symmetry', 'mean fractal dimension',\n",
       "        'radius error', 'texture error', 'perimeter error', 'area error',\n",
       "        'smoothness error', 'compactness error', 'concavity error',\n",
       "        'concave points error', 'symmetry error',\n",
       "        'fractal dimension error', 'worst radius', 'worst texture',\n",
       "        'worst perimeter', 'worst area', 'worst smoothness',\n",
       "        'worst compactness', 'worst concavity', 'worst concave points',\n",
       "        'worst symmetry', 'worst fractal dimension'], dtype='<U23'),\n",
       " 'filename': 'C:\\\\Users\\\\BACHAN NAYAK\\\\.conda\\\\envs\\\\tensorflow_env\\\\lib\\\\site-packages\\\\sklearn\\\\datasets\\\\data\\\\breast_cancer.csv'}"
      ]
     },
     "execution_count": 4,
     "metadata": {},
     "output_type": "execute_result"
    }
   ],
   "source": [
    "data = load_breast_cancer()\n",
    "data"
   ]
  },
  {
   "cell_type": "code",
   "execution_count": 3,
   "metadata": {
    "id": "epdBTC-im4Rb"
   },
   "outputs": [
    {
     "data": {
      "text/plain": [
       "dict_keys(['data', 'target', 'frame', 'target_names', 'DESCR', 'feature_names', 'filename'])"
      ]
     },
     "execution_count": 3,
     "metadata": {},
     "output_type": "execute_result"
    }
   ],
   "source": [
    "data.keys()"
   ]
  },
  {
   "cell_type": "code",
   "execution_count": 5,
   "metadata": {
    "id": "Iv9QGESOm6ni"
   },
   "outputs": [
    {
     "name": "stdout",
     "output_type": "stream",
     "text": [
      ".. _breast_cancer_dataset:\n",
      "\n",
      "Breast cancer wisconsin (diagnostic) dataset\n",
      "--------------------------------------------\n",
      "\n",
      "**Data Set Characteristics:**\n",
      "\n",
      "    :Number of Instances: 569\n",
      "\n",
      "    :Number of Attributes: 30 numeric, predictive attributes and the class\n",
      "\n",
      "    :Attribute Information:\n",
      "        - radius (mean of distances from center to points on the perimeter)\n",
      "        - texture (standard deviation of gray-scale values)\n",
      "        - perimeter\n",
      "        - area\n",
      "        - smoothness (local variation in radius lengths)\n",
      "        - compactness (perimeter^2 / area - 1.0)\n",
      "        - concavity (severity of concave portions of the contour)\n",
      "        - concave points (number of concave portions of the contour)\n",
      "        - symmetry\n",
      "        - fractal dimension (\"coastline approximation\" - 1)\n",
      "\n",
      "        The mean, standard error, and \"worst\" or largest (mean of the three\n",
      "        worst/largest values) of these features were computed for each image,\n",
      "        resulting in 30 features.  For instance, field 0 is Mean Radius, field\n",
      "        10 is Radius SE, field 20 is Worst Radius.\n",
      "\n",
      "        - class:\n",
      "                - WDBC-Malignant\n",
      "                - WDBC-Benign\n",
      "\n",
      "    :Summary Statistics:\n",
      "\n",
      "    ===================================== ====== ======\n",
      "                                           Min    Max\n",
      "    ===================================== ====== ======\n",
      "    radius (mean):                        6.981  28.11\n",
      "    texture (mean):                       9.71   39.28\n",
      "    perimeter (mean):                     43.79  188.5\n",
      "    area (mean):                          143.5  2501.0\n",
      "    smoothness (mean):                    0.053  0.163\n",
      "    compactness (mean):                   0.019  0.345\n",
      "    concavity (mean):                     0.0    0.427\n",
      "    concave points (mean):                0.0    0.201\n",
      "    symmetry (mean):                      0.106  0.304\n",
      "    fractal dimension (mean):             0.05   0.097\n",
      "    radius (standard error):              0.112  2.873\n",
      "    texture (standard error):             0.36   4.885\n",
      "    perimeter (standard error):           0.757  21.98\n",
      "    area (standard error):                6.802  542.2\n",
      "    smoothness (standard error):          0.002  0.031\n",
      "    compactness (standard error):         0.002  0.135\n",
      "    concavity (standard error):           0.0    0.396\n",
      "    concave points (standard error):      0.0    0.053\n",
      "    symmetry (standard error):            0.008  0.079\n",
      "    fractal dimension (standard error):   0.001  0.03\n",
      "    radius (worst):                       7.93   36.04\n",
      "    texture (worst):                      12.02  49.54\n",
      "    perimeter (worst):                    50.41  251.2\n",
      "    area (worst):                         185.2  4254.0\n",
      "    smoothness (worst):                   0.071  0.223\n",
      "    compactness (worst):                  0.027  1.058\n",
      "    concavity (worst):                    0.0    1.252\n",
      "    concave points (worst):               0.0    0.291\n",
      "    symmetry (worst):                     0.156  0.664\n",
      "    fractal dimension (worst):            0.055  0.208\n",
      "    ===================================== ====== ======\n",
      "\n",
      "    :Missing Attribute Values: None\n",
      "\n",
      "    :Class Distribution: 212 - Malignant, 357 - Benign\n",
      "\n",
      "    :Creator:  Dr. William H. Wolberg, W. Nick Street, Olvi L. Mangasarian\n",
      "\n",
      "    :Donor: Nick Street\n",
      "\n",
      "    :Date: November, 1995\n",
      "\n",
      "This is a copy of UCI ML Breast Cancer Wisconsin (Diagnostic) datasets.\n",
      "https://goo.gl/U2Uwz2\n",
      "\n",
      "Features are computed from a digitized image of a fine needle\n",
      "aspirate (FNA) of a breast mass.  They describe\n",
      "characteristics of the cell nuclei present in the image.\n",
      "\n",
      "Separating plane described above was obtained using\n",
      "Multisurface Method-Tree (MSM-T) [K. P. Bennett, \"Decision Tree\n",
      "Construction Via Linear Programming.\" Proceedings of the 4th\n",
      "Midwest Artificial Intelligence and Cognitive Science Society,\n",
      "pp. 97-101, 1992], a classification method which uses linear\n",
      "programming to construct a decision tree.  Relevant features\n",
      "were selected using an exhaustive search in the space of 1-4\n",
      "features and 1-3 separating planes.\n",
      "\n",
      "The actual linear program used to obtain the separating plane\n",
      "in the 3-dimensional space is that described in:\n",
      "[K. P. Bennett and O. L. Mangasarian: \"Robust Linear\n",
      "Programming Discrimination of Two Linearly Inseparable Sets\",\n",
      "Optimization Methods and Software 1, 1992, 23-34].\n",
      "\n",
      "This database is also available through the UW CS ftp server:\n",
      "\n",
      "ftp ftp.cs.wisc.edu\n",
      "cd math-prog/cpo-dataset/machine-learn/WDBC/\n",
      "\n",
      ".. topic:: References\n",
      "\n",
      "   - W.N. Street, W.H. Wolberg and O.L. Mangasarian. Nuclear feature extraction \n",
      "     for breast tumor diagnosis. IS&T/SPIE 1993 International Symposium on \n",
      "     Electronic Imaging: Science and Technology, volume 1905, pages 861-870,\n",
      "     San Jose, CA, 1993.\n",
      "   - O.L. Mangasarian, W.N. Street and W.H. Wolberg. Breast cancer diagnosis and \n",
      "     prognosis via linear programming. Operations Research, 43(4), pages 570-577, \n",
      "     July-August 1995.\n",
      "   - W.H. Wolberg, W.N. Street, and O.L. Mangasarian. Machine learning techniques\n",
      "     to diagnose breast cancer from fine-needle aspirates. Cancer Letters 77 (1994) \n",
      "     163-171.\n"
     ]
    }
   ],
   "source": [
    "print(data['DESCR'])"
   ]
  },
  {
   "cell_type": "code",
   "execution_count": 6,
   "metadata": {
    "id": "LD9ptFjvnuyz"
   },
   "outputs": [
    {
     "data": {
      "text/plain": [
       "(569, 30)"
      ]
     },
     "execution_count": 6,
     "metadata": {},
     "output_type": "execute_result"
    }
   ],
   "source": [
    "data['data'].shape"
   ]
  },
  {
   "cell_type": "code",
   "execution_count": 7,
   "metadata": {
    "id": "gIOjFb1ypLqB"
   },
   "outputs": [
    {
     "data": {
      "text/plain": [
       "array(['mean radius', 'mean texture', 'mean perimeter', 'mean area',\n",
       "       'mean smoothness', 'mean compactness', 'mean concavity',\n",
       "       'mean concave points', 'mean symmetry', 'mean fractal dimension',\n",
       "       'radius error', 'texture error', 'perimeter error', 'area error',\n",
       "       'smoothness error', 'compactness error', 'concavity error',\n",
       "       'concave points error', 'symmetry error',\n",
       "       'fractal dimension error', 'worst radius', 'worst texture',\n",
       "       'worst perimeter', 'worst area', 'worst smoothness',\n",
       "       'worst compactness', 'worst concavity', 'worst concave points',\n",
       "       'worst symmetry', 'worst fractal dimension'], dtype='<U23')"
      ]
     },
     "execution_count": 7,
     "metadata": {},
     "output_type": "execute_result"
    }
   ],
   "source": [
    "data['feature_names']"
   ]
  },
  {
   "cell_type": "code",
   "execution_count": 12,
   "metadata": {
    "id": "_Or3hS_KpeR0"
   },
   "outputs": [
    {
     "data": {
      "text/plain": [
       "array([1.799e+01, 1.038e+01, 1.228e+02, 1.001e+03, 1.184e-01, 2.776e-01,\n",
       "       3.001e-01, 1.471e-01, 2.419e-01, 7.871e-02, 1.095e+00, 9.053e-01,\n",
       "       8.589e+00, 1.534e+02, 6.399e-03, 4.904e-02, 5.373e-02, 1.587e-02,\n",
       "       3.003e-02, 6.193e-03, 2.538e+01, 1.733e+01, 1.846e+02, 2.019e+03,\n",
       "       1.622e-01, 6.656e-01, 7.119e-01, 2.654e-01, 4.601e-01, 1.189e-01])"
      ]
     },
     "execution_count": 12,
     "metadata": {},
     "output_type": "execute_result"
    }
   ],
   "source": [
    "data['data'][0]"
   ]
  },
  {
   "cell_type": "code",
   "execution_count": 15,
   "metadata": {
    "id": "66RDgPoPpkDH"
   },
   "outputs": [
    {
     "name": "stdout",
     "output_type": "stream",
     "text": [
      "mean radius : 17.99\n",
      "mean texture : 10.38\n",
      "mean perimeter : 122.8\n",
      "mean area : 1001.0\n",
      "mean smoothness : 0.1184\n",
      "mean compactness : 0.2776\n",
      "mean concavity : 0.3001\n",
      "mean concave points : 0.1471\n",
      "mean symmetry : 0.2419\n",
      "mean fractal dimension : 0.07871\n",
      "radius error : 1.095\n",
      "texture error : 0.9053\n",
      "perimeter error : 8.589\n",
      "area error : 153.4\n",
      "smoothness error : 0.006399\n",
      "compactness error : 0.04904\n",
      "concavity error : 0.05373\n",
      "concave points error : 0.01587\n",
      "symmetry error : 0.03003\n",
      "fractal dimension error : 0.006193\n",
      "worst radius : 25.38\n",
      "worst texture : 17.33\n",
      "worst perimeter : 184.6\n",
      "worst area : 2019.0\n",
      "worst smoothness : 0.1622\n",
      "worst compactness : 0.6656\n",
      "worst concavity : 0.7119\n",
      "worst concave points : 0.2654\n",
      "worst symmetry : 0.4601\n",
      "worst fractal dimension : 0.1189\n"
     ]
    }
   ],
   "source": [
    "j = 0\n",
    "for i in data['feature_names']:\n",
    "  print(i,\":\",data['data'][0][j])\n",
    "  j+=1"
   ]
  },
  {
   "cell_type": "code",
   "execution_count": 25,
   "metadata": {
    "id": "Nzk4dIoOqu1t"
   },
   "outputs": [
    {
     "data": {
      "text/plain": [
       "array([[1.799e+01, 1.038e+01, 1.228e+02, ..., 2.654e-01, 4.601e-01,\n",
       "        1.189e-01],\n",
       "       [2.057e+01, 1.777e+01, 1.329e+02, ..., 1.860e-01, 2.750e-01,\n",
       "        8.902e-02],\n",
       "       [1.969e+01, 2.125e+01, 1.300e+02, ..., 2.430e-01, 3.613e-01,\n",
       "        8.758e-02],\n",
       "       ...,\n",
       "       [1.660e+01, 2.808e+01, 1.083e+02, ..., 1.418e-01, 2.218e-01,\n",
       "        7.820e-02],\n",
       "       [2.060e+01, 2.933e+01, 1.401e+02, ..., 2.650e-01, 4.087e-01,\n",
       "        1.240e-01],\n",
       "       [7.760e+00, 2.454e+01, 4.792e+01, ..., 0.000e+00, 2.871e-01,\n",
       "        7.039e-02]])"
      ]
     },
     "execution_count": 25,
     "metadata": {},
     "output_type": "execute_result"
    }
   ],
   "source": [
    "feature = data['data']\n",
    "feature"
   ]
  },
  {
   "cell_type": "code",
   "execution_count": 26,
   "metadata": {
    "id": "KqwgdGdzp0ZX"
   },
   "outputs": [
    {
     "data": {
      "text/plain": [
       "array([0, 0, 0, 0, 0, 0, 0, 0, 0, 0, 0, 0, 0, 0, 0, 0, 0, 0, 0, 1, 1, 1,\n",
       "       0, 0, 0, 0, 0, 0, 0, 0, 0, 0, 0, 0, 0, 0, 0, 1, 0, 0, 0, 0, 0, 0,\n",
       "       0, 0, 1, 0, 1, 1, 1, 1, 1, 0, 0, 1, 0, 0, 1, 1, 1, 1, 0, 1, 0, 0,\n",
       "       1, 1, 1, 1, 0, 1, 0, 0, 1, 0, 1, 0, 0, 1, 1, 1, 0, 0, 1, 0, 0, 0,\n",
       "       1, 1, 1, 0, 1, 1, 0, 0, 1, 1, 1, 0, 0, 1, 1, 1, 1, 0, 1, 1, 0, 1,\n",
       "       1, 1, 1, 1, 1, 1, 1, 0, 0, 0, 1, 0, 0, 1, 1, 1, 0, 0, 1, 0, 1, 0,\n",
       "       0, 1, 0, 0, 1, 1, 0, 1, 1, 0, 1, 1, 1, 1, 0, 1, 1, 1, 1, 1, 1, 1,\n",
       "       1, 1, 0, 1, 1, 1, 1, 0, 0, 1, 0, 1, 1, 0, 0, 1, 1, 0, 0, 1, 1, 1,\n",
       "       1, 0, 1, 1, 0, 0, 0, 1, 0, 1, 0, 1, 1, 1, 0, 1, 1, 0, 0, 1, 0, 0,\n",
       "       0, 0, 1, 0, 0, 0, 1, 0, 1, 0, 1, 1, 0, 1, 0, 0, 0, 0, 1, 1, 0, 0,\n",
       "       1, 1, 1, 0, 1, 1, 1, 1, 1, 0, 0, 1, 1, 0, 1, 1, 0, 0, 1, 0, 1, 1,\n",
       "       1, 1, 0, 1, 1, 1, 1, 1, 0, 1, 0, 0, 0, 0, 0, 0, 0, 0, 0, 0, 0, 0,\n",
       "       0, 0, 1, 1, 1, 1, 1, 1, 0, 1, 0, 1, 1, 0, 1, 1, 0, 1, 0, 0, 1, 1,\n",
       "       1, 1, 1, 1, 1, 1, 1, 1, 1, 1, 1, 0, 1, 1, 0, 1, 0, 1, 1, 1, 1, 1,\n",
       "       1, 1, 1, 1, 1, 1, 1, 1, 1, 0, 1, 1, 1, 0, 1, 0, 1, 1, 1, 1, 0, 0,\n",
       "       0, 1, 1, 1, 1, 0, 1, 0, 1, 0, 1, 1, 1, 0, 1, 1, 1, 1, 1, 1, 1, 0,\n",
       "       0, 0, 1, 1, 1, 1, 1, 1, 1, 1, 1, 1, 1, 0, 0, 1, 0, 0, 0, 1, 0, 0,\n",
       "       1, 1, 1, 1, 1, 0, 1, 1, 1, 1, 1, 0, 1, 1, 1, 0, 1, 1, 0, 0, 1, 1,\n",
       "       1, 1, 1, 1, 0, 1, 1, 1, 1, 1, 1, 1, 0, 1, 1, 1, 1, 1, 0, 1, 1, 0,\n",
       "       1, 1, 1, 1, 1, 1, 1, 1, 1, 1, 1, 1, 0, 1, 0, 0, 1, 0, 1, 1, 1, 1,\n",
       "       1, 0, 1, 1, 0, 1, 0, 1, 1, 0, 1, 0, 1, 1, 1, 1, 1, 1, 1, 1, 0, 0,\n",
       "       1, 1, 1, 1, 1, 1, 0, 1, 1, 1, 1, 1, 1, 1, 1, 1, 1, 0, 1, 1, 1, 1,\n",
       "       1, 1, 1, 0, 1, 0, 1, 1, 0, 1, 1, 1, 1, 1, 0, 0, 1, 0, 1, 0, 1, 1,\n",
       "       1, 1, 1, 0, 1, 1, 0, 1, 0, 1, 0, 0, 1, 1, 1, 0, 1, 1, 1, 1, 1, 1,\n",
       "       1, 1, 1, 1, 1, 0, 1, 0, 0, 1, 1, 1, 1, 1, 1, 1, 1, 1, 1, 1, 1, 1,\n",
       "       1, 1, 1, 1, 1, 1, 1, 1, 1, 1, 1, 1, 0, 0, 0, 0, 0, 0, 1])"
      ]
     },
     "execution_count": 26,
     "metadata": {},
     "output_type": "execute_result"
    }
   ],
   "source": [
    "label = data['target']\n",
    "data['target']"
   ]
  },
  {
   "cell_type": "code",
   "execution_count": 27,
   "metadata": {
    "id": "UmP62MQWqiK1"
   },
   "outputs": [
    {
     "data": {
      "text/plain": [
       "array(['malignant', 'benign'], dtype='<U9')"
      ]
     },
     "execution_count": 27,
     "metadata": {},
     "output_type": "execute_result"
    }
   ],
   "source": [
    "data['target_names']"
   ]
  },
  {
   "cell_type": "code",
   "execution_count": 28,
   "metadata": {
    "id": "apyfDrfeqnC1"
   },
   "outputs": [
    {
     "data": {
      "text/plain": [
       "(569, 30)"
      ]
     },
     "execution_count": 28,
     "metadata": {},
     "output_type": "execute_result"
    }
   ],
   "source": [
    "feature.shape"
   ]
  },
  {
   "cell_type": "code",
   "execution_count": 29,
   "metadata": {
    "id": "Kn1TAFLfsQBc"
   },
   "outputs": [
    {
     "name": "stdout",
     "output_type": "stream",
     "text": [
      "[[1.799e+01 1.038e+01 1.228e+02 ... 2.654e-01 4.601e-01 1.189e-01]\n",
      " [2.057e+01 1.777e+01 1.329e+02 ... 1.860e-01 2.750e-01 8.902e-02]\n",
      " [1.969e+01 2.125e+01 1.300e+02 ... 2.430e-01 3.613e-01 8.758e-02]\n",
      " ...\n",
      " [1.660e+01 2.808e+01 1.083e+02 ... 1.418e-01 2.218e-01 7.820e-02]\n",
      " [2.060e+01 2.933e+01 1.401e+02 ... 2.650e-01 4.087e-01 1.240e-01]\n",
      " [7.760e+00 2.454e+01 4.792e+01 ... 0.000e+00 2.871e-01 7.039e-02]]\n"
     ]
    }
   ],
   "source": [
    "label.shape\n",
    "print(feature)"
   ]
  },
  {
   "cell_type": "code",
   "execution_count": 31,
   "metadata": {
    "id": "LoUal6dDsr0T"
   },
   "outputs": [
    {
     "data": {
      "text/plain": [
       "array([[ 1.09706398, -2.07333501,  1.26993369, ...,  2.29607613,\n",
       "         2.75062224,  1.93701461],\n",
       "       [ 1.82982061, -0.35363241,  1.68595471, ...,  1.0870843 ,\n",
       "        -0.24388967,  0.28118999],\n",
       "       [ 1.57988811,  0.45618695,  1.56650313, ...,  1.95500035,\n",
       "         1.152255  ,  0.20139121],\n",
       "       ...,\n",
       "       [ 0.70228425,  2.0455738 ,  0.67267578, ...,  0.41406869,\n",
       "        -1.10454895, -0.31840916],\n",
       "       [ 1.83834103,  2.33645719,  1.98252415, ...,  2.28998549,\n",
       "         1.91908301,  2.21963528],\n",
       "       [-1.80840125,  1.22179204, -1.81438851, ..., -1.74506282,\n",
       "        -0.04813821, -0.75120669]])"
      ]
     },
     "execution_count": 31,
     "metadata": {},
     "output_type": "execute_result"
    }
   ],
   "source": [
    "scale = StandardScaler()\n",
    "\n",
    "feature = scale.fit_transform(feature)\n",
    "feature"
   ]
  },
  {
   "cell_type": "code",
   "execution_count": 32,
   "metadata": {
    "id": "r_FOyQMHt8PT"
   },
   "outputs": [
    {
     "name": "stdout",
     "output_type": "stream",
     "text": [
      "mean radius : 1.0970639814699807\n",
      "mean texture : -2.0733350146975935\n",
      "mean perimeter : 1.2699336881399383\n",
      "mean area : 0.9843749048031144\n",
      "mean smoothness : 1.568466329243428\n",
      "mean compactness : 3.2835146709868264\n",
      "mean concavity : 2.652873983743168\n",
      "mean concave points : 2.532475216403245\n",
      "mean symmetry : 2.2175150059646405\n",
      "mean fractal dimension : 2.255746885296269\n",
      "radius error : 2.4897339267376193\n",
      "texture error : -0.5652650590684639\n",
      "perimeter error : 2.833030865855184\n",
      "area error : 2.4875775569611043\n",
      "smoothness error : -0.21400164666895383\n",
      "compactness error : 1.3168615683959484\n",
      "concavity error : 0.72402615808036\n",
      "concave points error : 0.6608199414286064\n",
      "symmetry error : 1.1487566671861758\n",
      "fractal dimension error : 0.9070830809973359\n",
      "worst radius : 1.8866896251792757\n",
      "worst texture : -1.3592934737640827\n",
      "worst perimeter : 2.3036006236225606\n",
      "worst area : 2.0012374893299207\n",
      "worst smoothness : 1.3076862710715387\n",
      "worst compactness : 2.616665023512603\n",
      "worst concavity : 2.1095263465722556\n",
      "worst concave points : 2.296076127561788\n",
      "worst symmetry : 2.750622244124955\n",
      "worst fractal dimension : 1.9370146123781782\n"
     ]
    }
   ],
   "source": [
    "j = 0\n",
    "for i in data['feature_names']:\n",
    "  print(i,\":\",feature[0][j])\n",
    "  j+=1"
   ]
  },
  {
   "cell_type": "code",
   "execution_count": 43,
   "metadata": {
    "id": "AKKH4JKKuRTt"
   },
   "outputs": [
    {
     "name": "stdout",
     "output_type": "stream",
     "text": [
      "[-1.80840125  1.22179204 -1.81438851 -1.34778924 -3.11208479 -1.15075248\n",
      " -1.11487284 -1.26181958 -0.8200699  -0.56103238 -0.07027874  0.3830925\n",
      " -0.15744905 -0.46615196  0.04934236 -1.16351619 -1.05750068 -1.91344745\n",
      "  0.75282996 -0.382754   -1.41089258  0.76418957 -1.43273495 -1.07581292\n",
      " -1.85901852 -1.2075525  -1.30583065 -1.74506282 -0.04813821 -0.75120669]\n",
      "benign 1\n"
     ]
    }
   ],
   "source": [
    "print(feature[568])\n",
    "#print(label[568])\n",
    "print(data['target_names'][label[568]],label[568])\n"
   ]
  },
  {
   "cell_type": "code",
   "execution_count": 52,
   "metadata": {
    "id": "Ms1YidTfusxT"
   },
   "outputs": [
    {
     "data": {
      "text/html": [
       "<div>\n",
       "<style scoped>\n",
       "    .dataframe tbody tr th:only-of-type {\n",
       "        vertical-align: middle;\n",
       "    }\n",
       "\n",
       "    .dataframe tbody tr th {\n",
       "        vertical-align: top;\n",
       "    }\n",
       "\n",
       "    .dataframe thead th {\n",
       "        text-align: right;\n",
       "    }\n",
       "</style>\n",
       "<table border=\"1\" class=\"dataframe\">\n",
       "  <thead>\n",
       "    <tr style=\"text-align: right;\">\n",
       "      <th></th>\n",
       "      <th>mean radius</th>\n",
       "      <th>mean texture</th>\n",
       "      <th>mean perimeter</th>\n",
       "      <th>mean area</th>\n",
       "      <th>mean smoothness</th>\n",
       "      <th>mean compactness</th>\n",
       "      <th>mean concavity</th>\n",
       "      <th>mean concave points</th>\n",
       "      <th>mean symmetry</th>\n",
       "      <th>mean fractal dimension</th>\n",
       "      <th>...</th>\n",
       "      <th>worst texture</th>\n",
       "      <th>worst perimeter</th>\n",
       "      <th>worst area</th>\n",
       "      <th>worst smoothness</th>\n",
       "      <th>worst compactness</th>\n",
       "      <th>worst concavity</th>\n",
       "      <th>worst concave points</th>\n",
       "      <th>worst symmetry</th>\n",
       "      <th>worst fractal dimension</th>\n",
       "      <th>label</th>\n",
       "    </tr>\n",
       "  </thead>\n",
       "  <tbody>\n",
       "    <tr>\n",
       "      <th>106</th>\n",
       "      <td>-0.706426</td>\n",
       "      <td>-0.223317</td>\n",
       "      <td>-0.691956</td>\n",
       "      <td>-0.689379</td>\n",
       "      <td>1.269571</td>\n",
       "      <td>-0.050051</td>\n",
       "      <td>-0.227236</td>\n",
       "      <td>-0.362899</td>\n",
       "      <td>-0.038768</td>\n",
       "      <td>0.340564</td>\n",
       "      <td>...</td>\n",
       "      <td>0.583433</td>\n",
       "      <td>-0.647878</td>\n",
       "      <td>-0.630885</td>\n",
       "      <td>1.597003</td>\n",
       "      <td>0.074651</td>\n",
       "      <td>0.072498</td>\n",
       "      <td>0.109537</td>\n",
       "      <td>-0.153294</td>\n",
       "      <td>0.389251</td>\n",
       "      <td>1</td>\n",
       "    </tr>\n",
       "    <tr>\n",
       "      <th>243</th>\n",
       "      <td>-0.107156</td>\n",
       "      <td>1.042608</td>\n",
       "      <td>-0.141243</td>\n",
       "      <td>-0.184551</td>\n",
       "      <td>-1.133686</td>\n",
       "      <td>-0.687389</td>\n",
       "      <td>-0.525166</td>\n",
       "      <td>-0.657209</td>\n",
       "      <td>-0.140994</td>\n",
       "      <td>-1.206042</td>\n",
       "      <td>...</td>\n",
       "      <td>0.107929</td>\n",
       "      <td>-0.275853</td>\n",
       "      <td>-0.306902</td>\n",
       "      <td>-1.695949</td>\n",
       "      <td>-0.700167</td>\n",
       "      <td>-0.653847</td>\n",
       "      <td>-0.815327</td>\n",
       "      <td>-0.384637</td>\n",
       "      <td>-1.149092</td>\n",
       "      <td>1</td>\n",
       "    </tr>\n",
       "    <tr>\n",
       "      <th>437</th>\n",
       "      <td>-0.024792</td>\n",
       "      <td>-0.770177</td>\n",
       "      <td>-0.090167</td>\n",
       "      <td>-0.124256</td>\n",
       "      <td>-0.838349</td>\n",
       "      <td>-0.860226</td>\n",
       "      <td>-0.671180</td>\n",
       "      <td>-0.502445</td>\n",
       "      <td>-0.356400</td>\n",
       "      <td>-0.541186</td>\n",
       "      <td>...</td>\n",
       "      <td>-0.667207</td>\n",
       "      <td>-0.180538</td>\n",
       "      <td>-0.229554</td>\n",
       "      <td>-0.564106</td>\n",
       "      <td>-0.821034</td>\n",
       "      <td>-0.769947</td>\n",
       "      <td>-0.610225</td>\n",
       "      <td>-0.284334</td>\n",
       "      <td>-0.643146</td>\n",
       "      <td>1</td>\n",
       "    </tr>\n",
       "    <tr>\n",
       "      <th>259</th>\n",
       "      <td>0.398389</td>\n",
       "      <td>3.320807</td>\n",
       "      <td>0.483201</td>\n",
       "      <td>0.256000</td>\n",
       "      <td>0.707364</td>\n",
       "      <td>1.128731</td>\n",
       "      <td>1.083503</td>\n",
       "      <td>0.904617</td>\n",
       "      <td>1.020006</td>\n",
       "      <td>0.524852</td>\n",
       "      <td>...</td>\n",
       "      <td>3.885905</td>\n",
       "      <td>0.567086</td>\n",
       "      <td>0.271451</td>\n",
       "      <td>2.451803</td>\n",
       "      <td>1.922000</td>\n",
       "      <td>1.430197</td>\n",
       "      <td>1.321574</td>\n",
       "      <td>0.988859</td>\n",
       "      <td>2.020138</td>\n",
       "      <td>0</td>\n",
       "    </tr>\n",
       "    <tr>\n",
       "      <th>342</th>\n",
       "      <td>-0.871154</td>\n",
       "      <td>-1.007538</td>\n",
       "      <td>-0.843535</td>\n",
       "      <td>-0.799162</td>\n",
       "      <td>0.493868</td>\n",
       "      <td>-0.253400</td>\n",
       "      <td>-0.437281</td>\n",
       "      <td>-0.400043</td>\n",
       "      <td>-0.130042</td>\n",
       "      <td>0.889177</td>\n",
       "      <td>...</td>\n",
       "      <td>-0.940785</td>\n",
       "      <td>-0.819147</td>\n",
       "      <td>-0.774507</td>\n",
       "      <td>0.413434</td>\n",
       "      <td>-0.211612</td>\n",
       "      <td>-0.202880</td>\n",
       "      <td>-0.108204</td>\n",
       "      <td>0.647507</td>\n",
       "      <td>0.379830</td>\n",
       "      <td>1</td>\n",
       "    </tr>\n",
       "    <tr>\n",
       "      <th>...</th>\n",
       "      <td>...</td>\n",
       "      <td>...</td>\n",
       "      <td>...</td>\n",
       "      <td>...</td>\n",
       "      <td>...</td>\n",
       "      <td>...</td>\n",
       "      <td>...</td>\n",
       "      <td>...</td>\n",
       "      <td>...</td>\n",
       "      <td>...</td>\n",
       "      <td>...</td>\n",
       "      <td>...</td>\n",
       "      <td>...</td>\n",
       "      <td>...</td>\n",
       "      <td>...</td>\n",
       "      <td>...</td>\n",
       "      <td>...</td>\n",
       "      <td>...</td>\n",
       "      <td>...</td>\n",
       "      <td>...</td>\n",
       "      <td>...</td>\n",
       "    </tr>\n",
       "    <tr>\n",
       "      <th>137</th>\n",
       "      <td>-0.766069</td>\n",
       "      <td>-0.907474</td>\n",
       "      <td>-0.778867</td>\n",
       "      <td>-0.725500</td>\n",
       "      <td>0.002115</td>\n",
       "      <td>-0.671849</td>\n",
       "      <td>-0.675072</td>\n",
       "      <td>-0.520243</td>\n",
       "      <td>-0.283381</td>\n",
       "      <td>-0.587967</td>\n",
       "      <td>...</td>\n",
       "      <td>-0.595556</td>\n",
       "      <td>-0.814083</td>\n",
       "      <td>-0.735833</td>\n",
       "      <td>-0.586024</td>\n",
       "      <td>-0.569123</td>\n",
       "      <td>-0.634657</td>\n",
       "      <td>-0.454456</td>\n",
       "      <td>-0.363605</td>\n",
       "      <td>-0.903046</td>\n",
       "      <td>1</td>\n",
       "    </tr>\n",
       "    <tr>\n",
       "      <th>513</th>\n",
       "      <td>0.128576</td>\n",
       "      <td>-1.310057</td>\n",
       "      <td>0.095601</td>\n",
       "      <td>0.011123</td>\n",
       "      <td>0.139464</td>\n",
       "      <td>-0.287323</td>\n",
       "      <td>-0.082603</td>\n",
       "      <td>-0.140039</td>\n",
       "      <td>-0.265127</td>\n",
       "      <td>-0.906928</td>\n",
       "      <td>...</td>\n",
       "      <td>-1.373949</td>\n",
       "      <td>0.036898</td>\n",
       "      <td>-0.032668</td>\n",
       "      <td>-0.441366</td>\n",
       "      <td>-0.391004</td>\n",
       "      <td>-0.110288</td>\n",
       "      <td>-0.346348</td>\n",
       "      <td>-0.444494</td>\n",
       "      <td>-0.746219</td>\n",
       "      <td>1</td>\n",
       "    </tr>\n",
       "    <tr>\n",
       "      <th>41</th>\n",
       "      <td>-0.902396</td>\n",
       "      <td>0.479458</td>\n",
       "      <td>-0.826648</td>\n",
       "      <td>-0.807125</td>\n",
       "      <td>1.874478</td>\n",
       "      <td>0.330874</td>\n",
       "      <td>0.195866</td>\n",
       "      <td>0.200441</td>\n",
       "      <td>0.304421</td>\n",
       "      <td>0.836725</td>\n",
       "      <td>...</td>\n",
       "      <td>1.573523</td>\n",
       "      <td>-0.596944</td>\n",
       "      <td>-0.644421</td>\n",
       "      <td>2.565776</td>\n",
       "      <td>0.098824</td>\n",
       "      <td>0.624213</td>\n",
       "      <td>0.423205</td>\n",
       "      <td>0.102315</td>\n",
       "      <td>0.671317</td>\n",
       "      <td>0</td>\n",
       "    </tr>\n",
       "    <tr>\n",
       "      <th>89</th>\n",
       "      <td>0.145616</td>\n",
       "      <td>-0.942380</td>\n",
       "      <td>0.156563</td>\n",
       "      <td>-0.008501</td>\n",
       "      <td>1.198406</td>\n",
       "      <td>0.560187</td>\n",
       "      <td>0.136356</td>\n",
       "      <td>0.560267</td>\n",
       "      <td>1.111279</td>\n",
       "      <td>0.093901</td>\n",
       "      <td>...</td>\n",
       "      <td>-1.211106</td>\n",
       "      <td>0.063706</td>\n",
       "      <td>-0.135330</td>\n",
       "      <td>-0.204652</td>\n",
       "      <td>0.347555</td>\n",
       "      <td>-0.056556</td>\n",
       "      <td>0.382093</td>\n",
       "      <td>0.404840</td>\n",
       "      <td>0.043456</td>\n",
       "      <td>1</td>\n",
       "    </tr>\n",
       "    <tr>\n",
       "      <th>212</th>\n",
       "      <td>3.971288</td>\n",
       "      <td>-0.190738</td>\n",
       "      <td>3.976130</td>\n",
       "      <td>5.244841</td>\n",
       "      <td>1.269571</td>\n",
       "      <td>0.895628</td>\n",
       "      <td>2.903973</td>\n",
       "      <td>2.852321</td>\n",
       "      <td>-0.597362</td>\n",
       "      <td>-1.069952</td>\n",
       "      <td>...</td>\n",
       "      <td>-1.173652</td>\n",
       "      <td>2.419765</td>\n",
       "      <td>2.845036</td>\n",
       "      <td>-0.796437</td>\n",
       "      <td>-0.653093</td>\n",
       "      <td>0.229857</td>\n",
       "      <td>0.683579</td>\n",
       "      <td>-2.026684</td>\n",
       "      <td>-1.590202</td>\n",
       "      <td>0</td>\n",
       "    </tr>\n",
       "  </tbody>\n",
       "</table>\n",
       "<p>569 rows × 31 columns</p>\n",
       "</div>"
      ],
      "text/plain": [
       "     mean radius  mean texture  mean perimeter  mean area  mean smoothness  \\\n",
       "106    -0.706426     -0.223317       -0.691956  -0.689379         1.269571   \n",
       "243    -0.107156      1.042608       -0.141243  -0.184551        -1.133686   \n",
       "437    -0.024792     -0.770177       -0.090167  -0.124256        -0.838349   \n",
       "259     0.398389      3.320807        0.483201   0.256000         0.707364   \n",
       "342    -0.871154     -1.007538       -0.843535  -0.799162         0.493868   \n",
       "..           ...           ...             ...        ...              ...   \n",
       "137    -0.766069     -0.907474       -0.778867  -0.725500         0.002115   \n",
       "513     0.128576     -1.310057        0.095601   0.011123         0.139464   \n",
       "41     -0.902396      0.479458       -0.826648  -0.807125         1.874478   \n",
       "89      0.145616     -0.942380        0.156563  -0.008501         1.198406   \n",
       "212     3.971288     -0.190738        3.976130   5.244841         1.269571   \n",
       "\n",
       "     mean compactness  mean concavity  mean concave points  mean symmetry  \\\n",
       "106         -0.050051       -0.227236            -0.362899      -0.038768   \n",
       "243         -0.687389       -0.525166            -0.657209      -0.140994   \n",
       "437         -0.860226       -0.671180            -0.502445      -0.356400   \n",
       "259          1.128731        1.083503             0.904617       1.020006   \n",
       "342         -0.253400       -0.437281            -0.400043      -0.130042   \n",
       "..                ...             ...                  ...            ...   \n",
       "137         -0.671849       -0.675072            -0.520243      -0.283381   \n",
       "513         -0.287323       -0.082603            -0.140039      -0.265127   \n",
       "41           0.330874        0.195866             0.200441       0.304421   \n",
       "89           0.560187        0.136356             0.560267       1.111279   \n",
       "212          0.895628        2.903973             2.852321      -0.597362   \n",
       "\n",
       "     mean fractal dimension  ...  worst texture  worst perimeter  worst area  \\\n",
       "106                0.340564  ...       0.583433        -0.647878   -0.630885   \n",
       "243               -1.206042  ...       0.107929        -0.275853   -0.306902   \n",
       "437               -0.541186  ...      -0.667207        -0.180538   -0.229554   \n",
       "259                0.524852  ...       3.885905         0.567086    0.271451   \n",
       "342                0.889177  ...      -0.940785        -0.819147   -0.774507   \n",
       "..                      ...  ...            ...              ...         ...   \n",
       "137               -0.587967  ...      -0.595556        -0.814083   -0.735833   \n",
       "513               -0.906928  ...      -1.373949         0.036898   -0.032668   \n",
       "41                 0.836725  ...       1.573523        -0.596944   -0.644421   \n",
       "89                 0.093901  ...      -1.211106         0.063706   -0.135330   \n",
       "212               -1.069952  ...      -1.173652         2.419765    2.845036   \n",
       "\n",
       "     worst smoothness  worst compactness  worst concavity  \\\n",
       "106          1.597003           0.074651         0.072498   \n",
       "243         -1.695949          -0.700167        -0.653847   \n",
       "437         -0.564106          -0.821034        -0.769947   \n",
       "259          2.451803           1.922000         1.430197   \n",
       "342          0.413434          -0.211612        -0.202880   \n",
       "..                ...                ...              ...   \n",
       "137         -0.586024          -0.569123        -0.634657   \n",
       "513         -0.441366          -0.391004        -0.110288   \n",
       "41           2.565776           0.098824         0.624213   \n",
       "89          -0.204652           0.347555        -0.056556   \n",
       "212         -0.796437          -0.653093         0.229857   \n",
       "\n",
       "     worst concave points  worst symmetry  worst fractal dimension  label  \n",
       "106              0.109537       -0.153294                 0.389251      1  \n",
       "243             -0.815327       -0.384637                -1.149092      1  \n",
       "437             -0.610225       -0.284334                -0.643146      1  \n",
       "259              1.321574        0.988859                 2.020138      0  \n",
       "342             -0.108204        0.647507                 0.379830      1  \n",
       "..                    ...             ...                      ...    ...  \n",
       "137             -0.454456       -0.363605                -0.903046      1  \n",
       "513             -0.346348       -0.444494                -0.746219      1  \n",
       "41               0.423205        0.102315                 0.671317      0  \n",
       "89               0.382093        0.404840                 0.043456      1  \n",
       "212              0.683579       -2.026684                -1.590202      0  \n",
       "\n",
       "[569 rows x 31 columns]"
      ]
     },
     "execution_count": 52,
     "metadata": {},
     "output_type": "execute_result"
    }
   ],
   "source": [
    "df_frt = pd.DataFrame(feature , columns = data['feature_names'])\n",
    "df_lbl = pd.DataFrame(label , columns = ['label'])\n",
    "df = pd.concat([df_frt, df_lbl], axis=1)\n",
    "df = df.sample(frac = 1)\n",
    "\n",
    "#feature = df.values[ : , : 30]\n",
    "#label = df.values[ : ,30: ]\n",
    "#df_frt\n",
    "#df_lbl\n",
    "df"
   ]
  },
  {
   "cell_type": "code",
   "execution_count": 53,
   "metadata": {
    "id": "70TWMaSt-W4y"
   },
   "outputs": [
    {
     "data": {
      "text/html": [
       "<div>\n",
       "<style scoped>\n",
       "    .dataframe tbody tr th:only-of-type {\n",
       "        vertical-align: middle;\n",
       "    }\n",
       "\n",
       "    .dataframe tbody tr th {\n",
       "        vertical-align: top;\n",
       "    }\n",
       "\n",
       "    .dataframe thead th {\n",
       "        text-align: right;\n",
       "    }\n",
       "</style>\n",
       "<table border=\"1\" class=\"dataframe\">\n",
       "  <thead>\n",
       "    <tr style=\"text-align: right;\">\n",
       "      <th></th>\n",
       "      <th>mean radius</th>\n",
       "      <th>mean texture</th>\n",
       "      <th>mean perimeter</th>\n",
       "      <th>mean area</th>\n",
       "      <th>mean smoothness</th>\n",
       "      <th>mean compactness</th>\n",
       "      <th>mean concavity</th>\n",
       "      <th>mean concave points</th>\n",
       "      <th>mean symmetry</th>\n",
       "      <th>mean fractal dimension</th>\n",
       "      <th>...</th>\n",
       "      <th>worst texture</th>\n",
       "      <th>worst perimeter</th>\n",
       "      <th>worst area</th>\n",
       "      <th>worst smoothness</th>\n",
       "      <th>worst compactness</th>\n",
       "      <th>worst concavity</th>\n",
       "      <th>worst concave points</th>\n",
       "      <th>worst symmetry</th>\n",
       "      <th>worst fractal dimension</th>\n",
       "      <th>label</th>\n",
       "    </tr>\n",
       "  </thead>\n",
       "  <tbody>\n",
       "    <tr>\n",
       "      <th>106</th>\n",
       "      <td>-0.706426</td>\n",
       "      <td>-0.223317</td>\n",
       "      <td>-0.691956</td>\n",
       "      <td>-0.689379</td>\n",
       "      <td>1.269571</td>\n",
       "      <td>-0.050051</td>\n",
       "      <td>-0.227236</td>\n",
       "      <td>-0.362899</td>\n",
       "      <td>-0.038768</td>\n",
       "      <td>0.340564</td>\n",
       "      <td>...</td>\n",
       "      <td>0.583433</td>\n",
       "      <td>-0.647878</td>\n",
       "      <td>-0.630885</td>\n",
       "      <td>1.597003</td>\n",
       "      <td>0.074651</td>\n",
       "      <td>0.072498</td>\n",
       "      <td>0.109537</td>\n",
       "      <td>-0.153294</td>\n",
       "      <td>0.389251</td>\n",
       "      <td>1</td>\n",
       "    </tr>\n",
       "    <tr>\n",
       "      <th>243</th>\n",
       "      <td>-0.107156</td>\n",
       "      <td>1.042608</td>\n",
       "      <td>-0.141243</td>\n",
       "      <td>-0.184551</td>\n",
       "      <td>-1.133686</td>\n",
       "      <td>-0.687389</td>\n",
       "      <td>-0.525166</td>\n",
       "      <td>-0.657209</td>\n",
       "      <td>-0.140994</td>\n",
       "      <td>-1.206042</td>\n",
       "      <td>...</td>\n",
       "      <td>0.107929</td>\n",
       "      <td>-0.275853</td>\n",
       "      <td>-0.306902</td>\n",
       "      <td>-1.695949</td>\n",
       "      <td>-0.700167</td>\n",
       "      <td>-0.653847</td>\n",
       "      <td>-0.815327</td>\n",
       "      <td>-0.384637</td>\n",
       "      <td>-1.149092</td>\n",
       "      <td>1</td>\n",
       "    </tr>\n",
       "    <tr>\n",
       "      <th>437</th>\n",
       "      <td>-0.024792</td>\n",
       "      <td>-0.770177</td>\n",
       "      <td>-0.090167</td>\n",
       "      <td>-0.124256</td>\n",
       "      <td>-0.838349</td>\n",
       "      <td>-0.860226</td>\n",
       "      <td>-0.671180</td>\n",
       "      <td>-0.502445</td>\n",
       "      <td>-0.356400</td>\n",
       "      <td>-0.541186</td>\n",
       "      <td>...</td>\n",
       "      <td>-0.667207</td>\n",
       "      <td>-0.180538</td>\n",
       "      <td>-0.229554</td>\n",
       "      <td>-0.564106</td>\n",
       "      <td>-0.821034</td>\n",
       "      <td>-0.769947</td>\n",
       "      <td>-0.610225</td>\n",
       "      <td>-0.284334</td>\n",
       "      <td>-0.643146</td>\n",
       "      <td>1</td>\n",
       "    </tr>\n",
       "    <tr>\n",
       "      <th>259</th>\n",
       "      <td>0.398389</td>\n",
       "      <td>3.320807</td>\n",
       "      <td>0.483201</td>\n",
       "      <td>0.256000</td>\n",
       "      <td>0.707364</td>\n",
       "      <td>1.128731</td>\n",
       "      <td>1.083503</td>\n",
       "      <td>0.904617</td>\n",
       "      <td>1.020006</td>\n",
       "      <td>0.524852</td>\n",
       "      <td>...</td>\n",
       "      <td>3.885905</td>\n",
       "      <td>0.567086</td>\n",
       "      <td>0.271451</td>\n",
       "      <td>2.451803</td>\n",
       "      <td>1.922000</td>\n",
       "      <td>1.430197</td>\n",
       "      <td>1.321574</td>\n",
       "      <td>0.988859</td>\n",
       "      <td>2.020138</td>\n",
       "      <td>0</td>\n",
       "    </tr>\n",
       "    <tr>\n",
       "      <th>342</th>\n",
       "      <td>-0.871154</td>\n",
       "      <td>-1.007538</td>\n",
       "      <td>-0.843535</td>\n",
       "      <td>-0.799162</td>\n",
       "      <td>0.493868</td>\n",
       "      <td>-0.253400</td>\n",
       "      <td>-0.437281</td>\n",
       "      <td>-0.400043</td>\n",
       "      <td>-0.130042</td>\n",
       "      <td>0.889177</td>\n",
       "      <td>...</td>\n",
       "      <td>-0.940785</td>\n",
       "      <td>-0.819147</td>\n",
       "      <td>-0.774507</td>\n",
       "      <td>0.413434</td>\n",
       "      <td>-0.211612</td>\n",
       "      <td>-0.202880</td>\n",
       "      <td>-0.108204</td>\n",
       "      <td>0.647507</td>\n",
       "      <td>0.379830</td>\n",
       "      <td>1</td>\n",
       "    </tr>\n",
       "    <tr>\n",
       "      <th>...</th>\n",
       "      <td>...</td>\n",
       "      <td>...</td>\n",
       "      <td>...</td>\n",
       "      <td>...</td>\n",
       "      <td>...</td>\n",
       "      <td>...</td>\n",
       "      <td>...</td>\n",
       "      <td>...</td>\n",
       "      <td>...</td>\n",
       "      <td>...</td>\n",
       "      <td>...</td>\n",
       "      <td>...</td>\n",
       "      <td>...</td>\n",
       "      <td>...</td>\n",
       "      <td>...</td>\n",
       "      <td>...</td>\n",
       "      <td>...</td>\n",
       "      <td>...</td>\n",
       "      <td>...</td>\n",
       "      <td>...</td>\n",
       "      <td>...</td>\n",
       "    </tr>\n",
       "    <tr>\n",
       "      <th>137</th>\n",
       "      <td>-0.766069</td>\n",
       "      <td>-0.907474</td>\n",
       "      <td>-0.778867</td>\n",
       "      <td>-0.725500</td>\n",
       "      <td>0.002115</td>\n",
       "      <td>-0.671849</td>\n",
       "      <td>-0.675072</td>\n",
       "      <td>-0.520243</td>\n",
       "      <td>-0.283381</td>\n",
       "      <td>-0.587967</td>\n",
       "      <td>...</td>\n",
       "      <td>-0.595556</td>\n",
       "      <td>-0.814083</td>\n",
       "      <td>-0.735833</td>\n",
       "      <td>-0.586024</td>\n",
       "      <td>-0.569123</td>\n",
       "      <td>-0.634657</td>\n",
       "      <td>-0.454456</td>\n",
       "      <td>-0.363605</td>\n",
       "      <td>-0.903046</td>\n",
       "      <td>1</td>\n",
       "    </tr>\n",
       "    <tr>\n",
       "      <th>513</th>\n",
       "      <td>0.128576</td>\n",
       "      <td>-1.310057</td>\n",
       "      <td>0.095601</td>\n",
       "      <td>0.011123</td>\n",
       "      <td>0.139464</td>\n",
       "      <td>-0.287323</td>\n",
       "      <td>-0.082603</td>\n",
       "      <td>-0.140039</td>\n",
       "      <td>-0.265127</td>\n",
       "      <td>-0.906928</td>\n",
       "      <td>...</td>\n",
       "      <td>-1.373949</td>\n",
       "      <td>0.036898</td>\n",
       "      <td>-0.032668</td>\n",
       "      <td>-0.441366</td>\n",
       "      <td>-0.391004</td>\n",
       "      <td>-0.110288</td>\n",
       "      <td>-0.346348</td>\n",
       "      <td>-0.444494</td>\n",
       "      <td>-0.746219</td>\n",
       "      <td>1</td>\n",
       "    </tr>\n",
       "    <tr>\n",
       "      <th>41</th>\n",
       "      <td>-0.902396</td>\n",
       "      <td>0.479458</td>\n",
       "      <td>-0.826648</td>\n",
       "      <td>-0.807125</td>\n",
       "      <td>1.874478</td>\n",
       "      <td>0.330874</td>\n",
       "      <td>0.195866</td>\n",
       "      <td>0.200441</td>\n",
       "      <td>0.304421</td>\n",
       "      <td>0.836725</td>\n",
       "      <td>...</td>\n",
       "      <td>1.573523</td>\n",
       "      <td>-0.596944</td>\n",
       "      <td>-0.644421</td>\n",
       "      <td>2.565776</td>\n",
       "      <td>0.098824</td>\n",
       "      <td>0.624213</td>\n",
       "      <td>0.423205</td>\n",
       "      <td>0.102315</td>\n",
       "      <td>0.671317</td>\n",
       "      <td>0</td>\n",
       "    </tr>\n",
       "    <tr>\n",
       "      <th>89</th>\n",
       "      <td>0.145616</td>\n",
       "      <td>-0.942380</td>\n",
       "      <td>0.156563</td>\n",
       "      <td>-0.008501</td>\n",
       "      <td>1.198406</td>\n",
       "      <td>0.560187</td>\n",
       "      <td>0.136356</td>\n",
       "      <td>0.560267</td>\n",
       "      <td>1.111279</td>\n",
       "      <td>0.093901</td>\n",
       "      <td>...</td>\n",
       "      <td>-1.211106</td>\n",
       "      <td>0.063706</td>\n",
       "      <td>-0.135330</td>\n",
       "      <td>-0.204652</td>\n",
       "      <td>0.347555</td>\n",
       "      <td>-0.056556</td>\n",
       "      <td>0.382093</td>\n",
       "      <td>0.404840</td>\n",
       "      <td>0.043456</td>\n",
       "      <td>1</td>\n",
       "    </tr>\n",
       "    <tr>\n",
       "      <th>212</th>\n",
       "      <td>3.971288</td>\n",
       "      <td>-0.190738</td>\n",
       "      <td>3.976130</td>\n",
       "      <td>5.244841</td>\n",
       "      <td>1.269571</td>\n",
       "      <td>0.895628</td>\n",
       "      <td>2.903973</td>\n",
       "      <td>2.852321</td>\n",
       "      <td>-0.597362</td>\n",
       "      <td>-1.069952</td>\n",
       "      <td>...</td>\n",
       "      <td>-1.173652</td>\n",
       "      <td>2.419765</td>\n",
       "      <td>2.845036</td>\n",
       "      <td>-0.796437</td>\n",
       "      <td>-0.653093</td>\n",
       "      <td>0.229857</td>\n",
       "      <td>0.683579</td>\n",
       "      <td>-2.026684</td>\n",
       "      <td>-1.590202</td>\n",
       "      <td>0</td>\n",
       "    </tr>\n",
       "  </tbody>\n",
       "</table>\n",
       "<p>569 rows × 31 columns</p>\n",
       "</div>"
      ],
      "text/plain": [
       "     mean radius  mean texture  mean perimeter  mean area  mean smoothness  \\\n",
       "106    -0.706426     -0.223317       -0.691956  -0.689379         1.269571   \n",
       "243    -0.107156      1.042608       -0.141243  -0.184551        -1.133686   \n",
       "437    -0.024792     -0.770177       -0.090167  -0.124256        -0.838349   \n",
       "259     0.398389      3.320807        0.483201   0.256000         0.707364   \n",
       "342    -0.871154     -1.007538       -0.843535  -0.799162         0.493868   \n",
       "..           ...           ...             ...        ...              ...   \n",
       "137    -0.766069     -0.907474       -0.778867  -0.725500         0.002115   \n",
       "513     0.128576     -1.310057        0.095601   0.011123         0.139464   \n",
       "41     -0.902396      0.479458       -0.826648  -0.807125         1.874478   \n",
       "89      0.145616     -0.942380        0.156563  -0.008501         1.198406   \n",
       "212     3.971288     -0.190738        3.976130   5.244841         1.269571   \n",
       "\n",
       "     mean compactness  mean concavity  mean concave points  mean symmetry  \\\n",
       "106         -0.050051       -0.227236            -0.362899      -0.038768   \n",
       "243         -0.687389       -0.525166            -0.657209      -0.140994   \n",
       "437         -0.860226       -0.671180            -0.502445      -0.356400   \n",
       "259          1.128731        1.083503             0.904617       1.020006   \n",
       "342         -0.253400       -0.437281            -0.400043      -0.130042   \n",
       "..                ...             ...                  ...            ...   \n",
       "137         -0.671849       -0.675072            -0.520243      -0.283381   \n",
       "513         -0.287323       -0.082603            -0.140039      -0.265127   \n",
       "41           0.330874        0.195866             0.200441       0.304421   \n",
       "89           0.560187        0.136356             0.560267       1.111279   \n",
       "212          0.895628        2.903973             2.852321      -0.597362   \n",
       "\n",
       "     mean fractal dimension  ...  worst texture  worst perimeter  worst area  \\\n",
       "106                0.340564  ...       0.583433        -0.647878   -0.630885   \n",
       "243               -1.206042  ...       0.107929        -0.275853   -0.306902   \n",
       "437               -0.541186  ...      -0.667207        -0.180538   -0.229554   \n",
       "259                0.524852  ...       3.885905         0.567086    0.271451   \n",
       "342                0.889177  ...      -0.940785        -0.819147   -0.774507   \n",
       "..                      ...  ...            ...              ...         ...   \n",
       "137               -0.587967  ...      -0.595556        -0.814083   -0.735833   \n",
       "513               -0.906928  ...      -1.373949         0.036898   -0.032668   \n",
       "41                 0.836725  ...       1.573523        -0.596944   -0.644421   \n",
       "89                 0.093901  ...      -1.211106         0.063706   -0.135330   \n",
       "212               -1.069952  ...      -1.173652         2.419765    2.845036   \n",
       "\n",
       "     worst smoothness  worst compactness  worst concavity  \\\n",
       "106          1.597003           0.074651         0.072498   \n",
       "243         -1.695949          -0.700167        -0.653847   \n",
       "437         -0.564106          -0.821034        -0.769947   \n",
       "259          2.451803           1.922000         1.430197   \n",
       "342          0.413434          -0.211612        -0.202880   \n",
       "..                ...                ...              ...   \n",
       "137         -0.586024          -0.569123        -0.634657   \n",
       "513         -0.441366          -0.391004        -0.110288   \n",
       "41           2.565776           0.098824         0.624213   \n",
       "89          -0.204652           0.347555        -0.056556   \n",
       "212         -0.796437          -0.653093         0.229857   \n",
       "\n",
       "     worst concave points  worst symmetry  worst fractal dimension  label  \n",
       "106              0.109537       -0.153294                 0.389251      1  \n",
       "243             -0.815327       -0.384637                -1.149092      1  \n",
       "437             -0.610225       -0.284334                -0.643146      1  \n",
       "259              1.321574        0.988859                 2.020138      0  \n",
       "342             -0.108204        0.647507                 0.379830      1  \n",
       "..                    ...             ...                      ...    ...  \n",
       "137             -0.454456       -0.363605                -0.903046      1  \n",
       "513             -0.346348       -0.444494                -0.746219      1  \n",
       "41               0.423205        0.102315                 0.671317      0  \n",
       "89               0.382093        0.404840                 0.043456      1  \n",
       "212              0.683579       -2.026684                -1.590202      0  \n",
       "\n",
       "[569 rows x 31 columns]"
      ]
     },
     "execution_count": 53,
     "metadata": {},
     "output_type": "execute_result"
    }
   ],
   "source": [
    "df"
   ]
  },
  {
   "cell_type": "code",
   "execution_count": 56,
   "metadata": {
    "id": "OwHAshL8wxmf"
   },
   "outputs": [],
   "source": [
    "#500 Training\n",
    "X_train = feature[:500]\n",
    "y_train = label[:500]\n",
    "\n",
    "#35 Validation\n",
    "X_val = feature[500:535]\n",
    "y_val = label[500:535]\n",
    "\n",
    "#34 Testing\n",
    "X_test = feature[535:]\n",
    "y_test = label[535:]"
   ]
  },
  {
   "cell_type": "code",
   "execution_count": 59,
   "metadata": {
    "id": "Nzj-pXW1vIJg"
   },
   "outputs": [],
   "source": [
    "model = Sequential()\n",
    "\n",
    "model.add(Dense(32, activation = 'relu', input_dim = 30))\n",
    "model.add(Dense(64, activation = 'relu'))\n",
    "model.add(Dense(128, activation = 'relu'))\n",
    "model.add(Dense(64, activation = 'relu'))\n",
    "model.add(Dense(32, activation = 'relu'))\n",
    "model.add(Dense(1, activation = 'sigmoid'))\n",
    "\n",
    "model.compile( loss = 'binary_crossentropy' , optimizer = 'adam' , metrics = ['accuracy'])"
   ]
  },
  {
   "cell_type": "code",
   "execution_count": 60,
   "metadata": {
    "id": "Myowb1aFz353"
   },
   "outputs": [
    {
     "name": "stdout",
     "output_type": "stream",
     "text": [
      "Epoch 1/10\n",
      "100/100 [==============================] - 2s 17ms/step - loss: 0.2505 - accuracy: 0.9420 - val_loss: 0.0815 - val_accuracy: 0.9714\n",
      "Epoch 2/10\n",
      "100/100 [==============================] - 1s 7ms/step - loss: 0.0822 - accuracy: 0.9720 - val_loss: 0.0768 - val_accuracy: 0.9714\n",
      "Epoch 3/10\n",
      "100/100 [==============================] - 1s 8ms/step - loss: 0.0607 - accuracy: 0.9840 - val_loss: 0.0612 - val_accuracy: 0.9714\n",
      "Epoch 4/10\n",
      "100/100 [==============================] - 1s 10ms/step - loss: 0.0417 - accuracy: 0.9880 - val_loss: 0.0542 - val_accuracy: 0.9714\n",
      "Epoch 5/10\n",
      "100/100 [==============================] - 1s 8ms/step - loss: 0.0372 - accuracy: 0.9880 - val_loss: 0.1683 - val_accuracy: 0.9714\n",
      "Epoch 6/10\n",
      "100/100 [==============================] - 1s 9ms/step - loss: 0.0380 - accuracy: 0.9840 - val_loss: 0.0691 - val_accuracy: 0.9429\n",
      "Epoch 7/10\n",
      "100/100 [==============================] - 1s 8ms/step - loss: 0.0270 - accuracy: 0.9900 - val_loss: 0.0614 - val_accuracy: 0.9429\n",
      "Epoch 8/10\n",
      "100/100 [==============================] - 1s 7ms/step - loss: 0.0225 - accuracy: 0.9920 - val_loss: 0.0564 - val_accuracy: 0.9429\n",
      "Epoch 9/10\n",
      "100/100 [==============================] - 1s 7ms/step - loss: 0.0067 - accuracy: 0.9980 - val_loss: 0.0698 - val_accuracy: 0.9429\n",
      "Epoch 10/10\n",
      "100/100 [==============================] - 1s 7ms/step - loss: 0.0117 - accuracy: 0.9940 - val_loss: 0.0764 - val_accuracy: 0.9714\n"
     ]
    },
    {
     "data": {
      "text/plain": [
       "<tensorflow.python.keras.callbacks.History at 0x2231fcbaa90>"
      ]
     },
     "execution_count": 60,
     "metadata": {},
     "output_type": "execute_result"
    }
   ],
   "source": [
    "model.fit( X_train , y_train, epochs = 10, batch_size = 5, validation_data = (X_val, y_val))"
   ]
  },
  {
   "cell_type": "code",
   "execution_count": 61,
   "metadata": {
    "id": "WjQrOpwc2S03"
   },
   "outputs": [
    {
     "name": "stdout",
     "output_type": "stream",
     "text": [
      "2/2 [==============================] - 0s 7ms/step - loss: 0.0189 - accuracy: 1.0000\n"
     ]
    },
    {
     "data": {
      "text/plain": [
       "[0.018918437883257866, 1.0]"
      ]
     },
     "execution_count": 61,
     "metadata": {},
     "output_type": "execute_result"
    }
   ],
   "source": [
    "model.evaluate(X_test , y_test)"
   ]
  },
  {
   "cell_type": "code",
   "execution_count": 62,
   "metadata": {
    "id": "Iw4189HY6bC0"
   },
   "outputs": [
    {
     "name": "stdout",
     "output_type": "stream",
     "text": [
      "2/2 [==============================] - 0s 7ms/step - loss: 0.0764 - accuracy: 0.9714\n"
     ]
    },
    {
     "data": {
      "text/plain": [
       "[0.07640580832958221, 0.9714285731315613]"
      ]
     },
     "execution_count": 62,
     "metadata": {},
     "output_type": "execute_result"
    }
   ],
   "source": [
    "model.evaluate(X_val , y_val)"
   ]
  },
  {
   "cell_type": "code",
   "execution_count": 63,
   "metadata": {
    "id": "GVKgag0986kX"
   },
   "outputs": [
    {
     "name": "stdout",
     "output_type": "stream",
     "text": [
      "-Malignant\n",
      "*Melignant\n",
      "-----------\n",
      "-Malignant\n",
      "*Melignant\n",
      "-----------\n",
      "-Benign\n",
      "*Banign\n",
      "-----------\n",
      "-Benign\n",
      "*Banign\n",
      "-----------\n",
      "-Benign\n",
      "*Banign\n",
      "-----------\n",
      "-Benign\n",
      "*Banign\n",
      "-----------\n",
      "-Benign\n",
      "*Banign\n",
      "-----------\n",
      "-Benign\n",
      "*Banign\n",
      "-----------\n",
      "-Benign\n",
      "*Banign\n",
      "-----------\n",
      "-Benign\n",
      "*Banign\n",
      "-----------\n",
      "-Benign\n",
      "*Banign\n",
      "-----------\n",
      "-Benign\n",
      "*Banign\n",
      "-----------\n",
      "-Benign\n",
      "*Banign\n",
      "-----------\n",
      "-Benign\n",
      "*Banign\n",
      "-----------\n",
      "-Benign\n",
      "*Banign\n",
      "-----------\n",
      "-Benign\n",
      "*Banign\n",
      "-----------\n",
      "-Benign\n",
      "*Banign\n",
      "-----------\n",
      "-Benign\n",
      "*Banign\n",
      "-----------\n",
      "-Benign\n",
      "*Banign\n",
      "-----------\n",
      "-Benign\n",
      "*Banign\n",
      "-----------\n",
      "-Benign\n",
      "*Banign\n",
      "-----------\n",
      "-Benign\n",
      "*Banign\n",
      "-----------\n",
      "-Benign\n",
      "*Banign\n",
      "-----------\n",
      "-Benign\n",
      "*Banign\n",
      "-----------\n",
      "-Benign\n",
      "*Banign\n",
      "-----------\n",
      "-Benign\n",
      "*Banign\n",
      "-----------\n",
      "-Benign\n",
      "*Banign\n",
      "-----------\n",
      "-Malignant\n",
      "*Melignant\n",
      "-----------\n",
      "-Malignant\n",
      "*Melignant\n",
      "-----------\n",
      "-Malignant\n",
      "*Melignant\n",
      "-----------\n"
     ]
    }
   ],
   "source": [
    "for i in range(30):\n",
    "  sample = X_test[i]\n",
    "  sample = np.reshape(sample, (1,30))\n",
    "\n",
    "  if (model.predict(sample)[0][0] > 0.5):\n",
    "    print(\"-Benign\")\n",
    "  else:\n",
    "    print(\"-Malignant\")\n",
    "\n",
    "  if (y_test[i] == 1):\n",
    "    print(\"*Banign\")\n",
    "  else:\n",
    "    print(\"*Melignant\")\n",
    "  print(\"-----------\")"
   ]
  },
  {
   "cell_type": "code",
   "execution_count": 64,
   "metadata": {
    "id": "9BqHv_pn867L"
   },
   "outputs": [
    {
     "name": "stdout",
     "output_type": "stream",
     "text": [
      "26\n"
     ]
    }
   ],
   "source": [
    "t = 0\n",
    "for i in y_val:\n",
    "  if (i == 1):\n",
    "    t += 1\n",
    "\n",
    "print(t)"
   ]
  },
  {
   "cell_type": "code",
   "execution_count": 65,
   "metadata": {
    "id": "rBBqR-XP9VpK"
   },
   "outputs": [
    {
     "name": "stdout",
     "output_type": "stream",
     "text": [
      "26\n"
     ]
    }
   ],
   "source": [
    "t = 0\n",
    "for i in y_test:\n",
    "  if (i == 1):\n",
    "    t += 1\n",
    "\n",
    "print(t)"
   ]
  },
  {
   "cell_type": "code",
   "execution_count": null,
   "metadata": {
    "id": "wlZ0UePBEngy"
   },
   "outputs": [],
   "source": [
    "X_test[0] * -.1"
   ]
  },
  {
   "cell_type": "code",
   "execution_count": null,
   "metadata": {
    "id": "FBKtTu9mEtxP"
   },
   "outputs": [],
   "source": [
    "348/350"
   ]
  },
  {
   "cell_type": "code",
   "execution_count": null,
   "metadata": {
    "id": "ddEotDrBGbam"
   },
   "outputs": [],
   "source": [
    "347/350"
   ]
  },
  {
   "cell_type": "code",
   "execution_count": null,
   "metadata": {
    "id": "gQhg6wwTGckE"
   },
   "outputs": [],
   "source": [
    "32/35"
   ]
  },
  {
   "cell_type": "code",
   "execution_count": null,
   "metadata": {
    "id": "J-X2emHxGeZr"
   },
   "outputs": [],
   "source": []
  }
 ],
 "metadata": {
  "colab": {
   "collapsed_sections": [],
   "name": "Breast Cancer Detection",
   "private_outputs": true,
   "provenance": []
  },
  "kernelspec": {
   "display_name": "Python 3",
   "language": "python",
   "name": "python3"
  },
  "language_info": {
   "codemirror_mode": {
    "name": "ipython",
    "version": 3
   },
   "file_extension": ".py",
   "mimetype": "text/x-python",
   "name": "python",
   "nbconvert_exporter": "python",
   "pygments_lexer": "ipython3",
   "version": "3.8.5"
  }
 },
 "nbformat": 4,
 "nbformat_minor": 1
}
